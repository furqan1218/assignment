{
 "cells": [
  {
   "cell_type": "code",
   "execution_count": 1,
   "id": "aa30c7ac",
   "metadata": {},
   "outputs": [
    {
     "name": "stdout",
     "output_type": "stream",
     "text": [
      "Welcome to the world of AI\n"
     ]
    }
   ],
   "source": [
    "# Simple Message: Assign a message to a variable, and then print that message.\n",
    "\n",
    "msg = \"Welcome to the world of AI\"\n",
    "print (msg)"
   ]
  },
  {
   "cell_type": "code",
   "execution_count": 233,
   "id": "bef7e38c",
   "metadata": {},
   "outputs": [
    {
     "name": "stdout",
     "output_type": "stream",
     "text": [
      "Bill Gates once said,  “I choose a lazy person to do a hard job. Because a lazy person will find an easy way to do it.”\n"
     ]
    }
   ],
   "source": [
    "#Find a quote from a famous person you admire. Print the quote and the name of its author.\n",
    "#Your output should look something like the following, including the quotation marks:\n",
    "#Albert Einstein once said, “A person who never made a mistake never tried anything new.”\n",
    "\n",
    "quote = ' “I choose a lazy person to do a hard job. Because a lazy person will find an easy way to do it.”'\n",
    "author = 'Bill Gates'\n",
    "\n",
    "print(author,'once said,', quote )"
   ]
  },
  {
   "cell_type": "code",
   "execution_count": 238,
   "id": "9c153ca6",
   "metadata": {},
   "outputs": [
    {
     "name": "stdout",
     "output_type": "stream",
     "text": [
      "Ente Radius0.5\n",
      "0.78539816345\n"
     ]
    }
   ],
   "source": [
    "#Calculate Area of a Circle::\n",
    "#Write a Python program which accepts the radius of a circle from the user and of the area.\n",
    "#Program Console Sample Output 1:\n",
    "#Input Radius: 0.5\n",
    "#Area of Circle with radius 0.5 is 0.7853981634\n",
    "# formula area of circle is pir2\n",
    "# pi value is 3.14\n",
    "\n",
    "radius = float(input(\"Ente Radius\"))\n",
    "pi = 3.1415926538\n",
    "\n",
    "area_of_circle = pi*(radius**2)\n",
    "print (area_of_circle)"
   ]
  },
  {
   "cell_type": "code",
   "execution_count": 239,
   "id": "0210e410",
   "metadata": {},
   "outputs": [
    {
     "name": "stdout",
     "output_type": "stream",
     "text": [
      "Enter Number \n",
      "5\n",
      "Posative Number Entered\n"
     ]
    }
   ],
   "source": [
    "#Check Number either positive, negative or zero::\n",
    "#Write a Python program to check if a number is positive,negative or zero\n",
    "#Program Console Sample Output 1:\n",
    "#Enter Number: -1\n",
    "#Negative Number Entered\n",
    "#Program Console Sample Output 2:\n",
    "#Integer: 3\n",
    "#Positive Number Entered\n",
    "#Program Console Sample Output 3:\n",
    "#Integer: 0 \n",
    "#Zero Entered\n",
    "\n",
    "num = int(input(\"Enter Number \\n\"))\n",
    "\n",
    "if num > 0:\n",
    "    print (\"Posative Number Entered\")\n",
    "elif num == 0 :\n",
    "    print (\"Zero Entered\")\n",
    "else:\n",
    "    print(\"Negative Numbe Entered\")\n"
   ]
  },
  {
   "cell_type": "code",
   "execution_count": 241,
   "id": "7d2e0318",
   "metadata": {},
   "outputs": [
    {
     "name": "stdout",
     "output_type": "stream",
     "text": [
      "Enter Character\n",
      "A\n",
      "Letter A is Vowel\n"
     ]
    }
   ],
   "source": [
    "#Vowel Tester Write a Python program to test whether a passed letter is a vowel or not\n",
    "#Program Console Output 1:\n",
    "#Enter a character: A\n",
    "#Letter A is Vowel\n",
    "#Program Console Output 2:\n",
    "#Enter a character: e\n",
    "#Letter e is Vowel\n",
    "#Program Console Output 2:\n",
    "#Enter a character: N\n",
    "#Letter N is not Vowel.\n",
    "\n",
    "vow = input(\"Enter Character\\n\")\n",
    "\n",
    "if (vow =='a' or vow == 'A'or vow == 'e' or vow =='E' or vow == 'i' or vow =='I'\n",
    "or vow == 'o' or vow =='O'or vow == 'u' or vow =='U'):\n",
    "    print(\"Letter\",vow ,\"is Vowel\")\n",
    "else :\n",
    "    print (\"Letter\", vow ,\"is Not Vowel\")"
   ]
  },
  {
   "cell_type": "code",
   "execution_count": 245,
   "id": "2729c50d",
   "metadata": {
    "scrolled": true
   },
   "outputs": [
    {
     "name": "stdout",
     "output_type": "stream",
     "text": [
      "Enter Height : 180\n",
      "Enter Weight : 75\n",
      "Your BMI is :  23.148148148148145\n"
     ]
    }
   ],
   "source": [
    "#BMI Calculator\n",
    "#Write a Python program to calculate body mass index Program Console Sample 1:\n",
    "#Enter Height in Cm: 180\n",
    "#Enter Weight in Kg: 75\n",
    "#Your BMI is 23.15\n",
    "# BMI Formula is BMI = kg/m2\n",
    "# here height in Cm converted into Meter\n",
    "\n",
    "height_cm = int(input(\"Enter Height : \"))\n",
    "weight = int(input(\"Enter Weight : \"))\n",
    "height_meter = height_cm/100\n",
    "BMI = weight / (height_meter)**2\n",
    "print (\"Your BMI is : \", BMI)"
   ]
  },
  {
   "cell_type": "code",
   "execution_count": 138,
   "id": "0790841f",
   "metadata": {},
   "outputs": [
    {
     "name": "stdout",
     "output_type": "stream",
     "text": [
      "Asad\n",
      "Adil\n",
      "Bilal\n",
      "Waqar\n",
      "Waqas\n",
      "Farhan\n"
     ]
    }
   ],
   "source": [
    "#Store the names of a few of your friends in a list called names\n",
    "#Print each person’s name by accessing each element in the list, one at a time.\n",
    "\n",
    "names = ['Asad','Adil','Bilal','Waqar','Waqas','Farhan']\n",
    "print(names[0])\n",
    "print(names[1])\n",
    "print(names[2])\n",
    "print(names[3])\n",
    "print(names[4])\n",
    "print(names[5])"
   ]
  },
  {
   "cell_type": "code",
   "execution_count": 249,
   "id": "2315df2f",
   "metadata": {},
   "outputs": [
    {
     "name": "stdout",
     "output_type": "stream",
     "text": [
      "Hello Asad! Welcome to the World of AI\n",
      "Hello Adil! Welcome to the World of AI\n",
      "Hello Bilal! Welcome to the World of AI\n",
      "Hello Waqar! Welcome to the World of AI\n",
      "Hello Waqas! Welcome to the World of AI\n",
      "Hello Farhan! Welcome to the World of AI\n"
     ]
    }
   ],
   "source": [
    "#Store the names of a few of your friends in a list called names\n",
    "#Print each person’s name by accessing each element in the list, one at a time.\n",
    "#Start with the list you used in Question 4, but instead of just printing each person’s name, print a message to them.\n",
    "#The text of each message should be the same, but each message should be personalized with the person’s name.\n",
    "\n",
    "#names = ['Asad','Adil','Bilal','Waqar','Waqas','Farhan']\n",
    "msg = \"Welcome to the World of AI\"\n",
    "\n",
    "for name in names:\n",
    "    print('Hello '+ name + '! '+msg)\n"
   ]
  },
  {
   "cell_type": "code",
   "execution_count": 252,
   "id": "416021a5",
   "metadata": {},
   "outputs": [
    {
     "name": "stdout",
     "output_type": "stream",
     "text": [
      "Veggie Pizza\n",
      "Pepperoni Pizza\n",
      "Meat Pizza\n",
      "['Veggie Pizza', 'Pepperoni Pizza', 'Meat Pizza']\n",
      "BBQ Chicken Pizza\n",
      "Fajita Pizza\n",
      "Cheese Lover\n",
      "['BBQ Chicken Pizza', 'Fajita Pizza', 'Cheese Lover']\n",
      "Malai Boti Pizza\n",
      "BBQ Pizza\n",
      "Afghani Tikka Pizza\n",
      "['Malai Boti Pizza', 'BBQ Pizza', 'Afghani Tikka Pizza']\n"
     ]
    }
   ],
   "source": [
    "'''Make a python program that conatains your nine favourite dishes in a list called foods.\n",
    "Print the message, The first three items in the list are:\n",
    "Then use a slice to print the first three items from that program’s list.\n",
    "Print the message, Three items from the middle of the list are:\n",
    "Use a slice to print three items from the middle of the list.\n",
    "Print the message, The last three items in the list are:\n",
    "Use a slice to print the last three items in the list.\n",
    "'''\n",
    "#Make a python program that conatains your nine favourite dishes in a list called foods.\n",
    "foods = ['Veggie Pizza','Pepperoni Pizza','Meat Pizza','BBQ Chicken Pizza','Fajita Pizza','Cheese Lover',\n",
    "         'Malai Boti Pizza','BBQ Pizza','Afghani Tikka Pizza']\n",
    "\n",
    "#Print the message, The first three items in the list are:\n",
    "print (foods [0])\n",
    "print (foods [1])\n",
    "print (foods [2])\n",
    "\n",
    "#Then use a slice to print the first three items from that program’s list.\n",
    "print(foods [:3])\n",
    "\n",
    "#Print the message, Three items from the middle of the list are:\n",
    "print (foods [3])\n",
    "print (foods [4])\n",
    "print (foods [5])\n",
    "\n",
    "#Use a slice to print three items from the middle of the list.\n",
    "print (foods[3:6])\n",
    "\n",
    "#Print the message, The last three items in the list are:\n",
    "print (foods [6])\n",
    "print (foods [7])\n",
    "print (foods [8])\n",
    "\n",
    "#Use a slice to print the last three items in the list.\n",
    "print(foods[6:])\n"
   ]
  },
  {
   "cell_type": "code",
   "execution_count": 231,
   "id": "cac8baee",
   "metadata": {},
   "outputs": [
    {
     "name": "stdout",
     "output_type": "stream",
     "text": [
      "False\n",
      "There are two different lists\n",
      "My favorite foods\n",
      "My favorite pizzas are : Veggie Pizza\n",
      "My favorite pizzas are : Pepperoni Pizza\n",
      "My favorite pizzas are : Meat Pizza\n",
      "My favorite pizzas are : BBQ Chicken Pizza\n",
      "My favorite pizzas are : Fajita Pizza\n",
      "My favorite pizzas are : Cheese Lover\n",
      "My favorite pizzas are : Malai Boti Pizza\n",
      "My favorite pizzas are : BBQ Pizza\n",
      "My favorite pizzas are : Afghani Tikka Pizza\n",
      "My favorite pizzas are : Margherita Pizza\n",
      "Friends favorite foods\n",
      "My Friends Favorite pizzas are : Veggie Pizza\n",
      "My Friends Favorite pizzas are : Pepperoni Pizza\n",
      "My Friends Favorite pizzas are : Meat Pizza\n",
      "My Friends Favorite pizzas are : BBQ Chicken Pizza\n",
      "My Friends Favorite pizzas are : Fajita Pizza\n",
      "My Friends Favorite pizzas are : Cheese Lover\n",
      "My Friends Favorite pizzas are : Malai Boti Pizza\n",
      "My Friends Favorite pizzas are : BBQ Pizza\n",
      "My Friends Favorite pizzas are : Afghani Tikka Pizza\n",
      "My Friends Favorite pizzas are : Cheezy Pizza\n"
     ]
    }
   ],
   "source": [
    "'''Start with your program from your last Question8. Make a copy of the list of foods,\n",
    "and call it friend_foods. Then, do the following:\n",
    "Add a new dish to the original list.\n",
    "Add a different dish to the list friend_foods.\n",
    "Prove that you have two separate lists.\n",
    "Print the message, My favorite pizzas are: and then use a for loop to print the first list.\n",
    "Print the message,\n",
    "My friend’s favorite foods are:, and then use a for loop to print the second list.\n",
    "NOTE: Make sure each new dish is stored in the appropriate list.'''\n",
    "\n",
    "\n",
    "# Make a copy of the list of foods\n",
    "foods = ['Veggie Pizza','Pepperoni Pizza','Meat Pizza','BBQ Chicken Pizza','Fajita Pizza','Cheese Lover',\n",
    "         'Malai Boti Pizza','BBQ Pizza','Afghani Tikka Pizza']\n",
    "\n",
    "# call it friend_foods\n",
    "friends_food = []\n",
    "\n",
    "for food in foods:\n",
    "    friends_food.append(food)\n",
    "\n",
    "# Add a new dish to the original list.\n",
    "#foods.insert('Margherita Pizza')\n",
    "foods.insert(10,'Margherita Pizza')\n",
    "\n",
    "# Add a different dish to the list friend_foods\n",
    "friends_food.insert(10,'Cheezy Pizza')\n",
    "\n",
    "print (friends_food == foods)\n",
    "# Prove that you have two separate lists.\n",
    "if friends_food in foods:\n",
    "    print(\"Food is Present in this list\", friends_food)\n",
    "else:\n",
    "    print(\"There are two different lists\")\n",
    "\n",
    "# Print the message, My favorite pizzas are: and then use a for loop to print the first list.\n",
    "print(\"My favorite foods\")\n",
    "for x in foods :\n",
    "    print(\"My favorite pizzas are : \" + x)\n",
    "    \n",
    "print(\"Friends favorite foods\")\n",
    "for x in friends_food :\n",
    "    print(\"My Friends Favorite pizzas are : \" + x)"
   ]
  },
  {
   "cell_type": "code",
   "execution_count": null,
   "id": "c48e2efa",
   "metadata": {},
   "outputs": [],
   "source": []
  }
 ],
 "metadata": {
  "kernelspec": {
   "display_name": "Python 3 (ipykernel)",
   "language": "python",
   "name": "python3"
  },
  "language_info": {
   "codemirror_mode": {
    "name": "ipython",
    "version": 3
   },
   "file_extension": ".py",
   "mimetype": "text/x-python",
   "name": "python",
   "nbconvert_exporter": "python",
   "pygments_lexer": "ipython3",
   "version": "3.10.5"
  }
 },
 "nbformat": 4,
 "nbformat_minor": 5
}
